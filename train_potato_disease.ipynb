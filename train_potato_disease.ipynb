{
 "cells": [
  {
   "cell_type": "code",
   "execution_count": 15,
   "metadata": {},
   "outputs": [],
   "source": [
    "import tensorflow as tf\n",
    "import matplotlib.pyplot as plt"
   ]
  },
  {
   "cell_type": "code",
   "execution_count": 16,
   "metadata": {},
   "outputs": [],
   "source": [
    "import os                                                      #Taking Current Directory\n",
    "curr_dir = os.getcwd()\n",
    "train_path = os.path.join(curr_dir,\"datasets\",\"Train\")\n",
    "testing_path = os.path.join(curr_dir,\"datasets\",\"Test\")\n",
    "valid_path = os.path.join(curr_dir,\"datasets\",\"Valid\")"
   ]
  },
  {
   "cell_type": "code",
   "execution_count": 17,
   "metadata": {},
   "outputs": [
    {
     "name": "stdout",
     "output_type": "stream",
     "text": [
      "Found 900 files belonging to 3 classes.\n"
     ]
    }
   ],
   "source": [
    "training_set =  tf.keras.utils.image_dataset_from_directory(                #Importing data in training_set\n",
    "    train_path,               \n",
    "    labels = \"inferred\",\n",
    "    label_mode = \"categorical\",\n",
    "    color_mode = \"rgb\",\n",
    "    image_size = (128,128),\n",
    "    shuffle = True,\n",
    "    interpolation = \"bilinear\",\n",
    "    )\n"
   ]
  },
  {
   "cell_type": "code",
   "execution_count": 18,
   "metadata": {},
   "outputs": [
    {
     "data": {
      "text/plain": [
       "['Potato___Early_blight', 'Potato___Late_blight', 'Potato___healthy']"
      ]
     },
     "execution_count": 18,
     "metadata": {},
     "output_type": "execute_result"
    }
   ],
   "source": [
    "training_set.class_names                                                       #Seeing my classes in training_set"
   ]
  },
  {
   "cell_type": "code",
   "execution_count": 19,
   "metadata": {},
   "outputs": [
    {
     "name": "stdout",
     "output_type": "stream",
     "text": [
      "Found 300 files belonging to 3 classes.\n"
     ]
    }
   ],
   "source": [
    "validation_set =  tf.keras.utils.image_dataset_from_directory(                   #Importing data in validation_set\n",
    "    valid_path,\n",
    "    labels = \"inferred\",\n",
    "    label_mode = \"categorical\",\n",
    "    color_mode = \"rgb\",\n",
    "    image_size = (128,128),\n",
    "    shuffle = True,\n",
    "    interpolation = \"bilinear\",\n",
    "    )"
   ]
  },
  {
   "cell_type": "markdown",
   "metadata": {},
   "source": [
    "CNN MODEL"
   ]
  },
  {
   "cell_type": "code",
   "execution_count": 20,
   "metadata": {},
   "outputs": [],
   "source": [
    "cnn = tf.keras.models.Sequential()                                                                        #Creating various layers with 32features, 64features, so on\n",
    "\n",
    "cnn.add(tf.keras.layers.Conv2D(filters=32, kernel_size = 3, padding = 'same', activation = 'relu', input_shape = [128,128,3]))\n",
    "cnn.add(tf.keras.layers.Conv2D(filters=32, kernel_size = 3,  activation = 'relu'))\n",
    "cnn.add(tf.keras.layers.MaxPool2D(pool_size = 2, strides = 2))\n",
    "\n",
    "cnn.add(tf.keras.layers.Conv2D(filters=64, kernel_size = 3, padding = 'same', activation = 'relu'))\n",
    "cnn.add(tf.keras.layers.Conv2D(filters=64, kernel_size = 3,  activation = 'relu'))\n",
    "cnn.add(tf.keras.layers.MaxPool2D(pool_size = 2, strides = 2))\n",
    "\n",
    "cnn.add(tf.keras.layers.Conv2D(filters=128, kernel_size = 3, padding = 'same', activation = 'relu'))\n",
    "cnn.add(tf.keras.layers.Conv2D(filters=128, kernel_size = 3,  activation = 'relu'))\n",
    "cnn.add(tf.keras.layers.MaxPool2D(pool_size = 2, strides = 2))\n",
    "\n",
    "cnn.add(tf.keras.layers.Conv2D(filters=256, kernel_size = 3, padding = 'same', activation = 'relu'))\n",
    "cnn.add(tf.keras.layers.Conv2D(filters=256, kernel_size = 3,  activation = 'relu'))\n",
    "cnn.add(tf.keras.layers.MaxPool2D(pool_size = 2, strides = 2))\n",
    "\n",
    "cnn.add(tf.keras.layers.Conv2D(filters=512, kernel_size = 3, padding = 'same', activation = 'relu'))\n",
    "cnn.add(tf.keras.layers.Conv2D(filters=512, kernel_size = 3,  activation = 'relu'))\n",
    "cnn.add(tf.keras.layers.MaxPool2D(pool_size = 2, strides = 2))\n",
    "\n",
    "cnn.add(tf.keras.layers.Dropout(0.25))\n",
    "\n",
    "cnn.add(tf.keras.layers.Flatten())                                                                          #Converting 3D image to 1D\n",
    "cnn.add(tf.keras.layers.Dense(units = 1500, activation = 'relu'))                                           #Gives positive output or else 0\n",
    "cnn.add(tf.keras.layers.Dropout(0.4))\n",
    "\n",
    "cnn.add(tf.keras.layers.Dense(units = 3, activation = 'softmax'))                                           #Takes highest probability image for output\n",
    "\n"
   ]
  },
  {
   "cell_type": "code",
   "execution_count": 21,
   "metadata": {},
   "outputs": [],
   "source": [
    "cnn.compile(optimizer=tf.keras.optimizers.Adam(\n",
    "    learning_rate = 0.0001), loss = 'categorical_crossentropy', metrics = ['accuracy'])                     #While using softmax, categorical_crossentropy works better, 0.0001 is training rate"
   ]
  },
  {
   "cell_type": "code",
   "execution_count": 22,
   "metadata": {},
   "outputs": [
    {
     "name": "stdout",
     "output_type": "stream",
     "text": [
      "Model: \"sequential_1\"\n",
      "_________________________________________________________________\n",
      " Layer (type)                Output Shape              Param #   \n",
      "=================================================================\n",
      " conv2d_10 (Conv2D)          (None, 128, 128, 32)      896       \n",
      "                                                                 \n",
      " conv2d_11 (Conv2D)          (None, 126, 126, 32)      9248      \n",
      "                                                                 \n",
      " max_pooling2d_5 (MaxPoolin  (None, 63, 63, 32)        0         \n",
      " g2D)                                                            \n",
      "                                                                 \n",
      " conv2d_12 (Conv2D)          (None, 63, 63, 64)        18496     \n",
      "                                                                 \n",
      " conv2d_13 (Conv2D)          (None, 61, 61, 64)        36928     \n",
      "                                                                 \n",
      " max_pooling2d_6 (MaxPoolin  (None, 30, 30, 64)        0         \n",
      " g2D)                                                            \n",
      "                                                                 \n",
      " conv2d_14 (Conv2D)          (None, 30, 30, 128)       73856     \n",
      "                                                                 \n",
      " conv2d_15 (Conv2D)          (None, 28, 28, 128)       147584    \n",
      "                                                                 \n",
      " max_pooling2d_7 (MaxPoolin  (None, 14, 14, 128)       0         \n",
      " g2D)                                                            \n",
      "                                                                 \n",
      " conv2d_16 (Conv2D)          (None, 14, 14, 256)       295168    \n",
      "                                                                 \n",
      " conv2d_17 (Conv2D)          (None, 12, 12, 256)       590080    \n",
      "                                                                 \n",
      " max_pooling2d_8 (MaxPoolin  (None, 6, 6, 256)         0         \n",
      " g2D)                                                            \n",
      "                                                                 \n",
      " conv2d_18 (Conv2D)          (None, 6, 6, 512)         1180160   \n",
      "                                                                 \n",
      " conv2d_19 (Conv2D)          (None, 4, 4, 512)         2359808   \n",
      "                                                                 \n",
      " max_pooling2d_9 (MaxPoolin  (None, 2, 2, 512)         0         \n",
      " g2D)                                                            \n",
      "                                                                 \n",
      " dropout_2 (Dropout)         (None, 2, 2, 512)         0         \n",
      "                                                                 \n",
      " flatten_1 (Flatten)         (None, 2048)              0         \n",
      "                                                                 \n",
      " dense_2 (Dense)             (None, 1500)              3073500   \n",
      "                                                                 \n",
      " dropout_3 (Dropout)         (None, 1500)              0         \n",
      "                                                                 \n",
      " dense_3 (Dense)             (None, 3)                 4503      \n",
      "                                                                 \n",
      "=================================================================\n",
      "Total params: 7790227 (29.72 MB)\n",
      "Trainable params: 7790227 (29.72 MB)\n",
      "Non-trainable params: 0 (0.00 Byte)\n",
      "_________________________________________________________________\n"
     ]
    }
   ],
   "source": [
    "cnn.summary()"
   ]
  },
  {
   "cell_type": "code",
   "execution_count": 23,
   "metadata": {},
   "outputs": [
    {
     "name": "stdout",
     "output_type": "stream",
     "text": [
      "Epoch 1/10\n",
      "29/29 [==============================] - 30s 874ms/step - loss: 1.1150 - accuracy: 0.4278 - val_loss: 0.9086 - val_accuracy: 0.5133\n",
      "Epoch 2/10\n",
      "29/29 [==============================] - 26s 914ms/step - loss: 0.6959 - accuracy: 0.6711 - val_loss: 0.5311 - val_accuracy: 0.7267\n",
      "Epoch 3/10\n",
      "29/29 [==============================] - 27s 921ms/step - loss: 0.6165 - accuracy: 0.7144 - val_loss: 0.6080 - val_accuracy: 0.7700\n",
      "Epoch 4/10\n",
      "29/29 [==============================] - 28s 951ms/step - loss: 0.4763 - accuracy: 0.7989 - val_loss: 0.4284 - val_accuracy: 0.8167\n",
      "Epoch 5/10\n",
      "29/29 [==============================] - 28s 980ms/step - loss: 0.3377 - accuracy: 0.8778 - val_loss: 0.3040 - val_accuracy: 0.8800\n",
      "Epoch 6/10\n",
      "29/29 [==============================] - 29s 1s/step - loss: 0.2398 - accuracy: 0.9000 - val_loss: 0.1841 - val_accuracy: 0.9367\n",
      "Epoch 7/10\n",
      "29/29 [==============================] - 30s 1s/step - loss: 0.2373 - accuracy: 0.8978 - val_loss: 0.2600 - val_accuracy: 0.8933\n",
      "Epoch 8/10\n",
      "29/29 [==============================] - 36s 1s/step - loss: 0.2297 - accuracy: 0.9144 - val_loss: 0.2495 - val_accuracy: 0.8900\n",
      "Epoch 9/10\n",
      "29/29 [==============================] - 31s 1s/step - loss: 0.1903 - accuracy: 0.9322 - val_loss: 0.1530 - val_accuracy: 0.9300\n",
      "Epoch 10/10\n",
      "29/29 [==============================] - 29s 1s/step - loss: 0.0874 - accuracy: 0.9689 - val_loss: 0.1022 - val_accuracy: 0.9633\n"
     ]
    }
   ],
   "source": [
    "training_history = cnn.fit(x=training_set, validation_data=validation_set, epochs=10)"
   ]
  },
  {
   "cell_type": "code",
   "execution_count": 24,
   "metadata": {},
   "outputs": [
    {
     "name": "stdout",
     "output_type": "stream",
     "text": [
      "29/29 [==============================] - 8s 279ms/step - loss: 0.0387 - accuracy: 0.9889\n",
      "Training accuracy 0.9888888597488403\n"
     ]
    }
   ],
   "source": [
    "train_loss, train_acc = cnn.evaluate(training_set)\n",
    "print(\"Training accuracy\", train_acc)"
   ]
  },
  {
   "cell_type": "code",
   "execution_count": 25,
   "metadata": {},
   "outputs": [
    {
     "name": "stdout",
     "output_type": "stream",
     "text": [
      "10/10 [==============================] - 3s 268ms/step - loss: 0.1022 - accuracy: 0.9633\n",
      "Validation accuracy 0.9633333086967468\n"
     ]
    }
   ],
   "source": [
    "val_loss, val_acc = cnn.evaluate(validation_set)\n",
    "print(\"Validation accuracy\", val_acc)"
   ]
  },
  {
   "cell_type": "code",
   "execution_count": 27,
   "metadata": {},
   "outputs": [
    {
     "data": {
      "text/plain": [
       "{'loss': [1.1150206327438354,\n",
       "  0.6959195733070374,\n",
       "  0.6164888739585876,\n",
       "  0.4762924611568451,\n",
       "  0.3376995027065277,\n",
       "  0.23976482450962067,\n",
       "  0.23733647167682648,\n",
       "  0.2296876460313797,\n",
       "  0.19034208357334137,\n",
       "  0.08736087381839752],\n",
       " 'accuracy': [0.4277777671813965,\n",
       "  0.6711111068725586,\n",
       "  0.7144444584846497,\n",
       "  0.7988888621330261,\n",
       "  0.8777777552604675,\n",
       "  0.8999999761581421,\n",
       "  0.897777795791626,\n",
       "  0.9144444465637207,\n",
       "  0.9322222471237183,\n",
       "  0.9688888788223267],\n",
       " 'val_loss': [0.9085718989372253,\n",
       "  0.531133234500885,\n",
       "  0.6079868078231812,\n",
       "  0.4284483790397644,\n",
       "  0.3040445148944855,\n",
       "  0.18413864076137543,\n",
       "  0.26000967621803284,\n",
       "  0.24951820075511932,\n",
       "  0.15298858284950256,\n",
       "  0.1022268608212471],\n",
       " 'val_accuracy': [0.5133333206176758,\n",
       "  0.7266666889190674,\n",
       "  0.7699999809265137,\n",
       "  0.8166666626930237,\n",
       "  0.8799999952316284,\n",
       "  0.9366666674613953,\n",
       "  0.8933333158493042,\n",
       "  0.8899999856948853,\n",
       "  0.9300000071525574,\n",
       "  0.9633333086967468]}"
      ]
     },
     "execution_count": 27,
     "metadata": {},
     "output_type": "execute_result"
    }
   ],
   "source": [
    "training_history.history"
   ]
  },
  {
   "cell_type": "code",
   "execution_count": null,
   "metadata": {},
   "outputs": [
    {
     "data": {
      "image/png": "[encoded data removed]",
      "text/plain": [
       "<Figure size 640x480 with 1 Axes>"
      ]
     },
     "metadata": {},
     "output_type": "display_data"
    }
   ],
   "source": [
    "epochs = [i for i in range(1,11)]\n",
    "plt.plot(epochs, training_history.history['accuracy'], color = 'brown', label = 'Training accuracy')\n",
    "plt.plot(epochs, training_history.history['val_accuracy'], color = 'green', label = 'Validation accuracy')\n",
    "plt.xlabel('No. of epochs')\n",
    "plt.title(\"Visualisation of Accuracy Results\")\n",
    "plt.legend()\n",
    "plt.show()"
   ]
  },
  {
   "cell_type": "code",
   "execution_count": null,
   "metadata": {},
   "outputs": [],
   "source": []
  }
 ],
 "metadata": {
  "kernelspec": {
   "display_name": "Python 3",
   "language": "python",
   "name": "python3"
  },
  "language_info": {
   "codemirror_mode": {
    "name": "ipython",
    "version": 3
   },
   "file_extension": ".py",
   "mimetype": "text/x-python",
   "name": "python",
   "nbconvert_exporter": "python",
   "pygments_lexer": "ipython3",
   "version": "3.9.4"
  }
 },
 "nbformat": 4,
 "nbformat_minor": 2
}
